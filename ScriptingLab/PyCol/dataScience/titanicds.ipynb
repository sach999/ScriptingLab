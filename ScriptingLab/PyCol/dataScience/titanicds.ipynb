{
 "cells": [
  {
   "cell_type": "code",
   "execution_count": 40,
   "metadata": {},
   "outputs": [
    {
     "name": "stdout",
     "output_type": "stream",
     "text": [
      "   Survived  Pclass     Sex   Age  SibSp     Fare Cabin Embarked\n",
      "0      Died   Basic    male  22.0      1   7.2500   NaN        S\n",
      "1  Survived  Luxury  female  38.0      1  71.2833   C85        C\n",
      "2  Survived   Basic  female  26.0      0   7.9250   NaN        S\n",
      "3  Survived  Luxury  female  35.0      1  53.1000  C123        S\n",
      "4      Died   Basic    male  35.0      0   8.0500   NaN        S\n"
     ]
    }
   ],
   "source": [
    "'''\n",
    "a) Load the titanic dataset into one of the data structures - numpy or pandas\n",
    "\n",
    "b) convert the survived column to strings for easier readings\n",
    "#Convert the class column to strings for easier reading\n",
    "#Convert the Embarked column to strings for easier reading\n",
    "\n",
    "c)Fill the empty column of Embarked with 'S'\n",
    "#Fill the empty column of Cabin with 'XXX'\n",
    "\n",
    "d)Drop the columns 'Parch', 'PassengerID', 'Name', 'Ticket', 'Embarked'\n",
    "#Understand the meaning of axis = 1 and inplace = True or False\n",
    "\n",
    "e) Display header rows and description of the laoded dataset.\n",
    "'''\n",
    "\n",
    "import numpy as np\n",
    "import pandas as pd\n",
    "\n",
    "\n",
    "#a)\n",
    "titanic_df = pd.read_csv('dataSet/titanictrain.csv') #opening a file\n",
    "\n",
    "#print(titanic_df.head(5)) .head(5) prints the first 5 rows of the dataSet \n",
    "\n",
    "#c)\n",
    "titanic_df ['Survived'] = titanic_df ['Survived'].map({\n",
    "    0: 'Died',\n",
    "    1:'Survived'\n",
    "})\n",
    "\n",
    "titanic_df ['Pclass'] = titanic_df ['Pclass'].map({\n",
    "    1:'Luxury',\n",
    "    2:'Business',\n",
    "    3:'Basic'\n",
    "})\n",
    "\n",
    "#d)\n",
    "titanic_df.drop([\"Parch\", \"PassengerId\", \"Name\", \"Ticket\"], axis=1, inplace = True)\n",
    "#inpalce - drop from reference\n",
    "titanic_df[\"Embarked\"] = titanic_df[\"Embarked\"].fillna(\"S\")\n",
    "print(titanic_df.head(5))"
   ]
  },
  {
   "cell_type": "code",
   "execution_count": null,
   "metadata": {},
   "outputs": [],
   "source": []
  },
  {
   "cell_type": "code",
   "execution_count": null,
   "metadata": {},
   "outputs": [],
   "source": []
  },
  {
   "cell_type": "code",
   "execution_count": null,
   "metadata": {},
   "outputs": [],
   "source": []
  },
  {
   "cell_type": "code",
   "execution_count": null,
   "metadata": {},
   "outputs": [],
   "source": []
  },
  {
   "cell_type": "code",
   "execution_count": null,
   "metadata": {},
   "outputs": [],
   "source": []
  }
 ],
 "metadata": {
  "kernelspec": {
   "display_name": "Python 3",
   "language": "python",
   "name": "python3"
  },
  "language_info": {
   "codemirror_mode": {
    "name": "ipython",
    "version": 3
   },
   "file_extension": ".py",
   "mimetype": "text/x-python",
   "name": "python",
   "nbconvert_exporter": "python",
   "pygments_lexer": "ipython3",
   "version": "3.7.3"
  }
 },
 "nbformat": 4,
 "nbformat_minor": 2
}
